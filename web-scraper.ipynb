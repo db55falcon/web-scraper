{
 "cells": [
  {
   "cell_type": "markdown",
   "id": "cbaef6fa",
   "metadata": {},
   "source": [
    "# Scraping HTML from deal-ins.com."
   ]
  },
  {
   "cell_type": "code",
   "execution_count": 8,
   "id": "72503bdc",
   "metadata": {},
   "outputs": [],
   "source": [
    "from bs4 import BeautifulSoup\n",
    "import requests"
   ]
  },
  {
   "cell_type": "code",
   "execution_count": 9,
   "id": "bc2e7cc4",
   "metadata": {},
   "outputs": [
    {
     "data": {
      "text/plain": [
       "200"
      ]
     },
     "execution_count": 9,
     "metadata": {},
     "output_type": "execute_result"
    }
   ],
   "source": [
    "resp = requests.get(\"https://deal-ins.com\") #senging request and storing the response in variable resp\n",
    "resp.status_code # just a quick check to determine success, 200 indicates success"
   ]
  },
  {
   "cell_type": "code",
   "execution_count": 6,
   "id": "70452db3",
   "metadata": {
    "collapsed": true
   },
   "outputs": [
    {
     "data": {
      "text/plain": [
       "<Response [200]>"
      ]
     },
     "execution_count": 6,
     "metadata": {},
     "output_type": "execute_result"
    }
   ],
   "source": [
    "resp.text #resp is now a object of requests so we have access to methods, text method grabs all the HTML text of the request\n",
    "# as we can see this is simply just a bunch of soup! we need to beautify it with BeautifulSoup"
   ]
  },
  {
   "cell_type": "code",
   "execution_count": 10,
   "id": "eb8f73f9",
   "metadata": {},
   "outputs": [],
   "source": [
    "# lets create a beautifulSoup object/instance and pass in the resp.text argument and pass in \"lxml\" as our second object\n",
    "\n",
    "clean_soup = BeautifulSoup(resp.text, \"lxml\")\n",
    "# we now have access to BeautifulSoup methods\n"
   ]
  },
  {
   "cell_type": "markdown",
   "id": "5116a3f4",
   "metadata": {},
   "source": [
    "# Now we want to use our clean_soup object to find the promo codes present.\n",
    "\n",
    "# Upon inspection of the HTML we find that the promo code exsists in div > class =entry-summary > div.\n",
    "\n",
    "\n",
    "# We will first use the .find()method.\n"
   ]
  },
  {
   "cell_type": "code",
   "execution_count": 11,
   "id": "4175ca92",
   "metadata": {},
   "outputs": [
    {
     "data": {
      "text/plain": [
       "'\\n🔥🔥 Hurry $1.99  Detangling Styling Comb Use promo code: 505L2ILV Copy Code There is no quantity limit \\n  Buy on Amazon👉https://amzn.to/3lOHpHe\\nFind More Deals & Codes at deal-ins.com\\n#Dealins0922 #ad\\n\\nContinue reading →\\n\\n'"
      ]
     },
     "execution_count": 11,
     "metadata": {},
     "output_type": "execute_result"
    }
   ],
   "source": [
    "deal_codes = clean_soup.find(\"div\", class_=\"entry-summary\")\n",
    "deal_codes.text # turn it back into string so we can apply methods"
   ]
  },
  {
   "cell_type": "code",
   "execution_count": 12,
   "id": "f5685248",
   "metadata": {},
   "outputs": [
    {
     "name": "stdout",
     "output_type": "stream",
     "text": [
      "['🔥🔥 Hurry $1.99  Detangling Styling Comb Use promo code', '505L2ILV Copy Code There is no quantity limit \\n  Buy on Amazon👉https://amzn.to/3lOHpHe\\nFind More Deals & Codes at deal-ins.com\\n#Dealins0922 #ad\\n\\nContinue reading →']\n"
     ]
    },
    {
     "data": {
      "text/plain": [
       "'505L2IL'"
      ]
     },
     "execution_count": 12,
     "metadata": {},
     "output_type": "execute_result"
    }
   ],
   "source": [
    "# now lets cleanse this by stripping it and then splitting\n",
    "clean_promo = deal_codes.text.strip()\n",
    "\n",
    "\n",
    "final = clean_promo.split(\": \") # we split the string after this point and then cast it into a list with two indexes\n",
    "print(final)\n",
    "final[1][0:7] # we use our index operator to extract the promo code"
   ]
  },
  {
   "cell_type": "markdown",
   "id": "171ecde8",
   "metadata": {},
   "source": [
    "# And there we have it! The promo code is: '50L52QJ'.\n",
    ".\n",
    "# PART 2. Lets get all the promo codes."
   ]
  },
  {
   "cell_type": "code",
   "execution_count": 13,
   "id": "90d0ca21",
   "metadata": {
    "scrolled": true
   },
   "outputs": [],
   "source": [
    "deal_codes = clean_soup.find_all(\"div\", class_=\"entry-summary\")\n",
    "\n",
    "\n",
    "\n",
    "\n"
   ]
  },
  {
   "cell_type": "code",
   "execution_count": 14,
   "id": "ba5806b4",
   "metadata": {
    "scrolled": true
   },
   "outputs": [
    {
     "data": {
      "text/plain": [
       "['505L2IL',\n",
       " 'VK3P9NV',\n",
       " '/amzn.t',\n",
       " '80WK2MS',\n",
       " '/amzn.t',\n",
       " 'RAM8LM3',\n",
       " '/amzn.t',\n",
       " '704T5NP',\n",
       " '/amzn.t',\n",
       " '/amzn.t',\n",
       " '403I52O',\n",
       " '55CCSOS',\n",
       " '8067AZW',\n",
       " '/amzn.t',\n",
       " '/amzn.t',\n",
       " '50MFA1L',\n",
       " '/amzn.t',\n",
       " 'YX83E3U',\n",
       " 'BE3VR4N',\n",
       " 'B5EEQQ7',\n",
       " '/amzn.t',\n",
       " '80OAZO2',\n",
       " ' W8GCWA',\n",
       " 'N5FEGSW',\n",
       " '35PYGS3',\n",
       " ' Vanill',\n",
       " '/amzn.t',\n",
       " ' N44JZ9',\n",
       " 'QAMUQYZ',\n",
       " '507DPHD',\n",
       " '4UUFI8V',\n",
       " '6N9XP5U',\n",
       " '19HMOCK',\n",
       " ' 5IFMM3',\n",
       " '/amzn.t',\n",
       " '/amzn.t',\n",
       " '25QDEJQ',\n",
       " 'RP8M5TO',\n",
       " '108XADL',\n",
       " '8057DYW',\n",
       " ' 8GKE2P',\n",
       " '75NZFK6',\n",
       " '6KNAQBC',\n",
       " '/amzn.t',\n",
       " '80EPNV9',\n",
       " '80MZFP2',\n",
       " '70WQMVH',\n",
       " ' 75ASKL',\n",
       " 'RB96A5X',\n",
       " '/amzn.t',\n",
       " '/amzn.t',\n",
       " '60E6NST',\n",
       " '/amzn.t',\n",
       " '75JM1Z8',\n",
       " 'XPCLADN',\n",
       " '507TYA6',\n",
       " '/amzn.t',\n",
       " '30JWXFN',\n",
       " ' 37MK6V',\n",
       " ' CUCPXF',\n",
       " '60KDZEP',\n",
       " '2769R4L',\n",
       " '/amzn.t',\n",
       " '5341IO7',\n",
       " '106DA9R',\n",
       " '40XYJM4',\n",
       " '60XVXTF',\n",
       " '50HKV41',\n",
       " '/amzn.t',\n",
       " '/amzn.t',\n",
       " '75AAPGN',\n",
       " ' 65VTLR',\n",
       " '/amzn.t',\n",
       " ' 80GTXM',\n",
       " '/amzn.t',\n",
       " 'AL2XP77',\n",
       " '808IOBK',\n",
       " '/amzn.t',\n",
       " '/amzn.t',\n",
       " '/amzn.t',\n",
       " '63VPTR6',\n",
       " ' 49CHZY',\n",
       " '/amzn.t',\n",
       " 'DT9SF8I',\n",
       " 'RIT3L7I',\n",
       " '606ILW6',\n",
       " ' IP8JAK',\n",
       " ' 71R67U',\n",
       " 'N4KB8U3',\n",
       " ' VNSOSN',\n",
       " '/amzn.t',\n",
       " ' 50FYK2',\n",
       " '/amzn.t',\n",
       " '/amzn.t',\n",
       " 'UUYVC95',\n",
       " 'EIFEVPK',\n",
       " ' Add 1 ',\n",
       " '/amzn.t',\n",
       " '/amzn.t',\n",
       " '50T7YFQ',\n",
       " '65K2NHI',\n",
       " 'NM2ZQL9',\n",
       " '63WLLYW',\n",
       " 'DGN85GZ',\n",
       " '/amzn.t',\n",
       " '/amzn.t',\n",
       " '70RT8XG',\n",
       " '/amzn.t',\n",
       " ' 61NH5N',\n",
       " '527QPTN',\n",
       " ' W8WCC3',\n",
       " 'KZCZF9G',\n",
       " 'W9YT3NE',\n",
       " ' 70SYVT',\n",
       " 'DQGK22G',\n",
       " '/amzn.t',\n",
       " ' 70YOY4',\n",
       " '/amzn.t',\n",
       " '50YTZNG',\n",
       " ' 60V4B5',\n",
       " '/amzn.t',\n",
       " '50UDJJ4',\n",
       " '6558ALX',\n",
       " '45LFAU8',\n",
       " 'X9EVJ96',\n",
       " ' 3BSUR4',\n",
       " ' 70UONP',\n",
       " 'DOGHOOK',\n",
       " ' 15U5M6',\n",
       " ' KG8SNA',\n",
       " '60D2NDM',\n",
       " ' 75HC1A',\n",
       " ' 65YZGN',\n",
       " '/amzn.t',\n",
       " ' 80TPGC',\n",
       " '50C7RSN',\n",
       " ' 50WTR4',\n",
       " '50Z9ZET',\n",
       " '80AFJU2',\n",
       " '55FMRZ2',\n",
       " '50GXCEW',\n",
       " '50FTQDB',\n",
       " '807OJTE',\n",
       " '80MSB9R',\n",
       " '705W8XF',\n",
       " '60E2ILS',\n",
       " 'DL2FA82',\n",
       " '608WR1A',\n",
       " ' D4WJMQ',\n",
       " '/amzn.t',\n",
       " ' YJPYZP',\n",
       " '70LQWX5',\n",
       " '507A1IR',\n",
       " '65AMVDH',\n",
       " '6QGZKNS',\n",
       " '/amzn.t',\n",
       " '4HXFPWR',\n",
       " '43GQBNH',\n",
       " 'FCM42JI',\n",
       " '808OZ3X',\n",
       " '804XKSG',\n",
       " '80KZQ4E',\n",
       " '807O9GK',\n",
       " '80GNIFO',\n",
       " ' 80ACHJ',\n",
       " 'Z9LMTKP',\n",
       " '6DNZSOY',\n",
       " '80L9I3H',\n",
       " ' 80KJEL',\n",
       " ' 79VXZE',\n",
       " '50AG9MG',\n",
       " '757U2TQ',\n",
       " '60AT8M2',\n",
       " '60W5GVX',\n",
       " '501GGKP',\n",
       " '50FI34O',\n",
       " '506LVUC',\n",
       " '80GMSKZ',\n",
       " '75LE6OG',\n",
       " '805SGRB',\n",
       " '657I94W',\n",
       " '50R66EL',\n",
       " '604MSQ2',\n",
       " '50CFMTY',\n",
       " '50AG9MG',\n",
       " '503PQPR',\n",
       " 'J65Q8LD',\n",
       " 'G39V7ST',\n",
       " 'CRSEKPX',\n",
       " 'SPX39IQ',\n",
       " 'H8AW99Z',\n",
       " 'OOCKB5E',\n",
       " '502JYKS',\n",
       " 'OKA5QYR',\n",
       " '50V45GW',\n",
       " '60AAXDP',\n",
       " '60DIGKW',\n",
       " '50Y21VE',\n",
       " '70JX45F',\n",
       " '50QIOED']"
      ]
     },
     "execution_count": 14,
     "metadata": {},
     "output_type": "execute_result"
    }
   ],
   "source": [
    "[final1.text.strip().split(\":\")[1][1:8] for final1 in deal_codes]"
   ]
  },
  {
   "cell_type": "code",
   "execution_count": null,
   "id": "85107450",
   "metadata": {},
   "outputs": [],
   "source": []
  },
  {
   "cell_type": "code",
   "execution_count": null,
   "id": "b1628f90",
   "metadata": {},
   "outputs": [],
   "source": []
  },
  {
   "cell_type": "code",
   "execution_count": null,
   "id": "d1871b2f",
   "metadata": {},
   "outputs": [],
   "source": []
  },
  {
   "cell_type": "code",
   "execution_count": null,
   "id": "f1bcbf3a",
   "metadata": {},
   "outputs": [],
   "source": []
  },
  {
   "cell_type": "code",
   "execution_count": null,
   "id": "1d0d5560",
   "metadata": {},
   "outputs": [],
   "source": []
  },
  {
   "cell_type": "code",
   "execution_count": null,
   "id": "e61df55c",
   "metadata": {},
   "outputs": [],
   "source": []
  }
 ],
 "metadata": {
  "kernelspec": {
   "display_name": "Python 3",
   "language": "python",
   "name": "python3"
  },
  "language_info": {
   "codemirror_mode": {
    "name": "ipython",
    "version": 3
   },
   "file_extension": ".py",
   "mimetype": "text/x-python",
   "name": "python",
   "nbconvert_exporter": "python",
   "pygments_lexer": "ipython3",
   "version": "3.8.8"
  }
 },
 "nbformat": 4,
 "nbformat_minor": 5
}
